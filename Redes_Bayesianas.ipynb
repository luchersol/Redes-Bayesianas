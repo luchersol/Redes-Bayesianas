{
 "cells": [
  {
   "cell_type": "markdown",
   "metadata": {},
   "source": [
    "\"¿Cómo influyen los indicadores económicos y demográficos en la tasa de crecimiento de la población a nivel global?\""
   ]
  },
  {
   "cell_type": "code",
   "execution_count": 107,
   "metadata": {},
   "outputs": [],
   "source": [
    "# Importación de librerías necesarias\n",
    "from pgmpy.models import BayesianNetwork\n",
    "from pgmpy.factors.discrete import TabularCPD\n",
    "from pgmpy.inference import VariableElimination"
   ]
  },
  {
   "cell_type": "code",
   "execution_count": 108,
   "metadata": {},
   "outputs": [],
   "source": [
    "# Definir constantes para los nodos de la red bayesiana\n",
    "LV_URB = \"Nivel urbanización\"\n",
    "LV_EDU = \"Nivel educativo\"\n",
    "RT_PARO = \"Tasa de paro\"\n",
    "PNB = \"Ingreso nacional bruto\"\n",
    "PIB = \"Producto Interior Bruto\"\n",
    "GASTO_EDUCATIVO = \"Gasto educativo\"\n",
    "ACCESO_SALUD = \"Acceso a salud\"\n",
    "RT_FERTILIDAD = \"Tasa de fertilidad\"\n",
    "RT_CRECIMIENTO = \"Tasa de crecimiento de la población\"\n",
    "RT_MORT_INFANTIL = \"Tasa de mortalidad infantil\"\n",
    "\n",
    "# Se crea el objeto para el model \n",
    "model = BayesianNetwork()\n",
    "\n",
    "# Añadimos todos los nodos\n",
    "model.add_nodes_from([LV_URB, LV_EDU, RT_PARO, PNB, PIB, GASTO_EDUCATIVO, \n",
    "                      ACCESO_SALUD, RT_FERTILIDAD, RT_CRECIMIENTO, RT_MORT_INFANTIL])\n",
    "\n",
    "#Creamos y añadimos los caminos (origen, destino) del grafo dirigido\n",
    "edges_RT_PARO = [(LV_EDU, RT_PARO), (LV_URB, RT_PARO)]\n",
    "edges_PIB = [(RT_PARO, PIB), (PNB, PIB)]\n",
    "edges_RT_FERTILIDAD = [(GASTO_EDUCATIVO, RT_FERTILIDAD), (ACCESO_SALUD, RT_FERTILIDAD)]\n",
    "edges_RT_CRECIMIENTO = [(RT_FERTILIDAD, RT_CRECIMIENTO), (RT_MORT_INFANTIL, RT_CRECIMIENTO)]\n",
    "\n",
    "model.add_edges_from(edges_RT_PARO)\n",
    "model.add_edges_from(edges_PIB)\n",
    "model.add_edge(PIB, GASTO_EDUCATIVO)\n",
    "model.add_edges_from(edges_RT_FERTILIDAD)\n",
    "model.add_edges_from(edges_RT_CRECIMIENTO)\n"
   ]
  },
  {
   "cell_type": "code",
   "execution_count": 109,
   "metadata": {},
   "outputs": [
    {
     "name": "stderr",
     "output_type": "stream",
     "text": [
      "Finding Elimination Order: : 100%|██████████| 9/9 [00:01<00:00,  7.45it/s]"
     ]
    },
    {
     "name": "stderr",
     "output_type": "stream",
     "text": [
      "\n"
     ]
    }
   ],
   "source": [
    "# Aquí vamos definiendo cada uno de los cpd () y añadiendo a un diccionario para posteriormente pasarlos a csv\n",
    "#------------------------------------------------------------------\n",
    "cpds = dict()\n",
    "#------------------------------------------------------------------\n",
    "cpd_nivel_educativo = TabularCPD(\n",
    "    variable=LV_EDU, variable_card=2, \n",
    "    values=[[0.7], \n",
    "            [0.3]],\n",
    "    state_names={LV_EDU: ['ALTO', 'BAJO']}\n",
    "    )\n",
    "cpds[LV_EDU] = cpd_nivel_educativo\n",
    "#------------------------------------------------------------------\n",
    "cpd_nivel_urbanizacion = TabularCPD(\n",
    "    variable=LV_URB, variable_card=2,\n",
    "    values=[[0.75], \n",
    "            [0.25]],\n",
    "    state_names={LV_URB: ['ALTO', 'BAJO']}\n",
    "    )\n",
    "cpds[LV_URB] = cpd_nivel_urbanizacion\n",
    "#------------------------------------------------------------------\n",
    "cpd_tasa_paro_cond = TabularCPD(\n",
    "    variable=RT_PARO, variable_card=2,\n",
    "    values=[[0.1, 0.15, 0.3, 0.95],\n",
    "            [0.9, 0.85, 0.7, 0.05]],\n",
    "    evidence=[LV_EDU, LV_URB],\n",
    "    evidence_card=[2, 2],\n",
    "    state_names={RT_PARO: ['ALTO', 'BAJO'],\n",
    "                 LV_EDU: ['ALTO', 'BAJO'],\n",
    "                 LV_URB: ['ALTO', 'BAJO']}\n",
    "    )\n",
    "cpds[RT_PARO] = cpd_tasa_paro_cond\n",
    "#------------------------------------------------------------------\n",
    "cpd_pnb_per_capita = TabularCPD(\n",
    "    variable=PNB, variable_card=2, \n",
    "    values=[[0.7], \n",
    "            [0.3]],\n",
    "    state_names={PNB: ['ALTO', 'BAJO']}\n",
    "    )\n",
    "cpds[PNB] = cpd_pnb_per_capita\n",
    "#------------------------------------------------------------------\n",
    "cpd_pib_per_capita_cond = TabularCPD(\n",
    "    variable=PIB, variable_card=2,\n",
    "    values=[[0.8, 0.5, 0.3, 0.1],\n",
    "            [0.2, 0.5, 0.7, 0.9]],\n",
    "    evidence=[RT_PARO, PNB],\n",
    "    evidence_card=[2, 2],\n",
    "    state_names={RT_PARO: ['ALTO', 'BAJO'],\n",
    "                 PNB: ['ALTO', 'BAJO'],\n",
    "                 PIB: ['ALTO', 'BAJO']}\n",
    "    )\n",
    "cpds[PIB] = cpd_pib_per_capita_cond\n",
    "#------------------------------------------------------------------\n",
    "cpd_gasto_educacion_cond = TabularCPD(\n",
    "    variable=GASTO_EDUCATIVO, variable_card=2, \n",
    "    values=[[0.7, 0.3], \n",
    "            [0.3, 0.7]], \n",
    "    evidence=[PIB], \n",
    "    evidence_card=[2],\n",
    "    state_names={GASTO_EDUCATIVO: ['ALTO', 'BAJO'],\n",
    "                 PIB: ['ALTO', 'BAJO']}\n",
    "    )\n",
    "cpds[GASTO_EDUCATIVO] = cpd_gasto_educacion_cond\n",
    "#------------------------------------------------------------------\n",
    "cpd_acceso_salud = TabularCPD(\n",
    "    variable=ACCESO_SALUD, variable_card=2, \n",
    "    values=[[0.6], \n",
    "            [0.4]],\n",
    "    state_names={ACCESO_SALUD: ['ALTO', 'BAJO']})\n",
    "cpds[ACCESO_SALUD] = cpd_acceso_salud\n",
    "#------------------------------------------------------------------\n",
    "cpd_tasa_fertilidad_cond = TabularCPD(\n",
    "    variable=RT_FERTILIDAD, variable_card=2,\n",
    "    values=[[0.8, 0.15, 0.7, 0.5],\n",
    "            [0.2, 0.85, 0.3, 0.5]],\n",
    "    evidence=[GASTO_EDUCATIVO, ACCESO_SALUD],\n",
    "    evidence_card=[2, 2],\n",
    "    state_names={GASTO_EDUCATIVO: ['ALTO', 'BAJO'],\n",
    "                 ACCESO_SALUD: ['ALTO', 'BAJO'],\n",
    "                 RT_FERTILIDAD: ['ALTO', 'BAJO']}\n",
    "    )\n",
    "cpds[RT_FERTILIDAD] = cpd_tasa_fertilidad_cond\n",
    "#------------------------------------------------------------------\n",
    "cpd_tasa_mortalidad_infantil = TabularCPD(\n",
    "    variable=RT_MORT_INFANTIL, variable_card=2, \n",
    "    values=[[0.8], \n",
    "            [0.2]],\n",
    "    state_names={RT_MORT_INFANTIL: ['ALTO', 'BAJO']}\n",
    "    )\n",
    "cpds[RT_MORT_INFANTIL] = cpd_tasa_mortalidad_infantil\n",
    "#------------------------------------------------------------------\n",
    "cpd_tasa_crecimiento_poblacion_cond = TabularCPD(\n",
    "    variable=RT_CRECIMIENTO, variable_card=2,\n",
    "    values=[[0.7, 0.9, 0.25, 0.17],\n",
    "            [0.3, 0.1, 0.75, 0.83]],\n",
    "    evidence=[RT_FERTILIDAD, RT_MORT_INFANTIL],\n",
    "    evidence_card=[2, 2],\n",
    "    state_names={RT_FERTILIDAD: ['ALTO', 'BAJO'],\n",
    "                 RT_MORT_INFANTIL: ['ALTO', 'BAJO'],\n",
    "                 RT_CRECIMIENTO: ['ALTO', 'BAJO']}\n",
    ")\n",
    "cpds[RT_CRECIMIENTO] = cpd_tasa_crecimiento_poblacion_cond\n",
    "#------------------------------------------------------------------"
   ]
  },
  {
   "cell_type": "code",
   "execution_count": 110,
   "metadata": {},
   "outputs": [],
   "source": [
    "# Pasasmos todos los datos a csv para mantenerlos guardados de una forma que sea más faciles de visualizar\n",
    "for key, value in cpds.items():\n",
    "    value.to_csv(filename=f'./csv/{key}.csv')"
   ]
  },
  {
   "cell_type": "code",
   "execution_count": 111,
   "metadata": {},
   "outputs": [],
   "source": [
    "# Añadir todos los CPD al modelo\n",
    "for key, value in cpds.items():\n",
    "    model.add_cpds(value)\n",
    "\n",
    "assert model.check_model()"
   ]
  },
  {
   "cell_type": "code",
   "execution_count": 112,
   "metadata": {},
   "outputs": [
    {
     "name": "stderr",
     "output_type": "stream",
     "text": [
      "Eliminating: Tasa de paro: 100%|██████████| 9/9 [00:00<00:00, 474.73it/s]"
     ]
    },
    {
     "name": "stdout",
     "output_type": "stream",
     "text": [
      "{'Tasa de crecimiento de la población': 'ALTO'}\n"
     ]
    },
    {
     "name": "stderr",
     "output_type": "stream",
     "text": [
      "\n"
     ]
    }
   ],
   "source": [
    "infer = VariableElimination(model)\n",
    "result = infer.map_query(variables=[RT_CRECIMIENTO])\n",
    "print(result)"
   ]
  },
  {
   "cell_type": "markdown",
   "metadata": {},
   "source": [
    "Podemos observar que probabilisticamente dado los datos introducidos obtendremos que que es más probable que nuestra tasa de crecimiento sea alta"
   ]
  },
  {
   "cell_type": "markdown",
   "metadata": {},
   "source": []
  }
 ],
 "metadata": {
  "kernelspec": {
   "display_name": "Python 3",
   "language": "python",
   "name": "python3"
  },
  "language_info": {
   "codemirror_mode": {
    "name": "ipython",
    "version": 3
   },
   "file_extension": ".py",
   "mimetype": "text/x-python",
   "name": "python",
   "nbconvert_exporter": "python",
   "pygments_lexer": "ipython3",
   "version": "3.9.5"
  }
 },
 "nbformat": 4,
 "nbformat_minor": 2
}
