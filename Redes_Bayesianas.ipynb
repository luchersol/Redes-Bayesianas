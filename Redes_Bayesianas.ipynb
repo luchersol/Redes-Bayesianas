{
 "cells": [
  {
   "cell_type": "markdown",
   "metadata": {},
   "source": [
    "\"¿Cómo influyen los indicadores económicos y demográficos en la tasa de crecimiento de la población a nivel global?\""
   ]
  },
  {
   "cell_type": "code",
   "execution_count": 2,
   "metadata": {},
   "outputs": [],
   "source": [
    "# Importar librerías necesarias\n",
    "from pgmpy.models import BayesianNetwork\n",
    "from pgmpy.factors.discrete import TabularCPD\n",
    "from pgmpy.inference import VariableElimination"
   ]
  },
  {
   "cell_type": "code",
   "execution_count": 5,
   "metadata": {},
   "outputs": [],
   "source": [
    "# Definir la estructura de la red bayesiana\n",
    "LV_URB = \"Nivel urbanización\"\n",
    "LV_EDU = \"Nivel educativo\"\n",
    "RT_PARO = \"Tasa de paro\"\n",
    "PNB = \"Ingreso nacional bruto\"\n",
    "PIB = \"Producto Interior Bruto\"\n",
    "GASTO_EDUCATIVO = \"Gasto educativo\"\n",
    "ACCESO_SALUD = \"Acceso a salud\"\n",
    "RT_FERTILIDAD = \"Tasa de fertilidad\"\n",
    "RT_CRECIMIENTO = \"Tasa de crecimiento de la población\"\n",
    "RT_MORT_INFANTIL = \"Tasa de mortalidad infantil\"\n",
    "\n",
    "# Se le pasa por parámetro una lista de tuplas (origen --> destino)\n",
    "model = BayesianNetwork()\n",
    "model.add_nodes_from([LV_URB, LV_EDU, RT_PARO, PNB, PIB, GASTO_EDUCATIVO, \n",
    "                      ACCESO_SALUD, RT_FERTILIDAD, RT_CRECIMIENTO, RT_MORT_INFANTIL])\n",
    "\n",
    "edges_RT_PARO = [(LV_EDU, RT_PARO), (LV_URB, RT_PARO)]\n",
    "edges_PIB = [(RT_PARO, PIB), (PNB, PIB)]\n",
    "edges_RT_FERTILIDAD = [(GASTO_EDUCATIVO, RT_FERTILIDAD), (ACCESO_SALUD, RT_FERTILIDAD)]\n",
    "edges_RT_CRECIMIENTO = [(RT_FERTILIDAD, RT_CRECIMIENTO), (RT_MORT_INFANTIL, RT_CRECIMIENTO)]\n",
    "\n",
    "model.add_edges_from(edges_RT_PARO)\n",
    "model.add_edges_from(edges_PIB)\n",
    "model.add_edge(PIB, GASTO_EDUCATIVO)\n",
    "model.add_edges_from(edges_RT_FERTILIDAD)\n",
    "model.add_edges_from(edges_RT_CRECIMIENTO)\n"
   ]
  },
  {
   "cell_type": "code",
   "execution_count": 18,
   "metadata": {},
   "outputs": [],
   "source": [
    "# Suponiendo que ya tienes los datos para cada nodo, puedes definir los CPD\n",
    "# Aquí, para simplificación, se usarán datos ficticios\n",
    "\n",
    "# Ejemplo de cómo definir CPD (Distribución de Probabilidad Condicional)\n",
    "cpd_tasa_fertilidad = TabularCPD(variable='Tasa de fertilidad', variable_card=2, values=[[0.6], [0.4]])\n",
    "cpd_esperanza_vida = TabularCPD(variable='Esperanza de vida al nacer', variable_card=2, values=[[0.7], [0.3]])\n",
    "cpd_tasa_mortalidad_infantil = TabularCPD(variable='Tasa de mortalidad infantil', variable_card=2, values=[[0.8], [0.2]])\n",
    "\n",
    "cpd_tasa_crecimiento_poblacion = TabularCPD(\n",
    "    variable='Tasa de crecimiento de la población', variable_card=2,\n",
    "    values=[[0.9, 0.6, 0.5, 0.2, 0.7, 0.4, 0.1, 0.05],\n",
    "            [0.1, 0.4, 0.5, 0.8, 0.3, 0.6, 0.9, 0.95]],\n",
    "    evidence=['Tasa de fertilidad', 'Esperanza de vida al nacer', 'Tasa de mortalidad infantil'],\n",
    "    evidence_card=[2, 2, 2]\n",
    ")\n",
    "\n",
    "cpd_tasa_desempleo = TabularCPD(variable='Tasa de desempleo', variable_card=2, values=[[0.6], [0.4]])\n",
    "cpd_ingreso_nacional_bruto = TabularCPD(variable='Ingreso nacional bruto per cápita', variable_card=2, values=[[0.7], [0.3]])\n",
    "\n",
    "cpd_pib_per_capita = TabularCPD(\n",
    "    variable='PIB per cápita', variable_card=2,\n",
    "    values=[[0.8, 0.5, 0.3, 0.1],\n",
    "            [0.2, 0.5, 0.7, 0.9]],\n",
    "    evidence=['Tasa de desempleo', 'Ingreso nacional bruto per cápita'],\n",
    "    evidence_card=[2, 2]\n",
    ")\n",
    "\n",
    "cpd_gasto_educacion = TabularCPD(\n",
    "    variable='Gasto en educación (% del PIB)', variable_card=2, \n",
    "    values=[[0.7, 0.3], \n",
    "            [0.3, 0.7]], \n",
    "    evidence=['PIB per cápita'], \n",
    "    evidence_card=[2])\n",
    "cpd_acceso_salud = TabularCPD(variable='Acceso a servicios de salud', variable_card=2, values=[[0.6], [0.4]])\n",
    "\n",
    "cpd_tasa_fertilidad_cond = TabularCPD(\n",
    "    variable='Tasa de fertilidad', variable_card=2,\n",
    "    values=[[0.9, 0.4, 0.3, 0.1],\n",
    "            [0.1, 0.6, 0.7, 0.9]],\n",
    "    evidence=['Gasto en educación (% del PIB)', 'Acceso a servicios de salud'],\n",
    "    evidence_card=[2, 2]\n",
    ")\n",
    "\n",
    "cpd_esperanza_vida_cond = TabularCPD(\n",
    "    variable='Esperanza de vida al nacer', variable_card=2,\n",
    "    values=[[0.8, 0.5, 0.2, 0.1],\n",
    "            [0.2, 0.5, 0.8, 0.9]],\n",
    "    evidence=['Acceso a servicios de salud', 'Tasa de mortalidad infantil'],\n",
    "    evidence_card=[2, 2]\n",
    ")\n",
    "\n",
    "cpd_nivel_urbanizacion = TabularCPD(variable='Nivel de urbanización', variable_card=2, values=[[0.7], [0.3]])\n",
    "cpd_tasa_desempleo_cond = TabularCPD(\n",
    "    variable='Tasa de desempleo', variable_card=2,\n",
    "    values=[[0.6, 0.3],\n",
    "            [0.4, 0.7]],\n",
    "    evidence=['Nivel de urbanización'],\n",
    "    evidence_card=[2]\n",
    ")"
   ]
  },
  {
   "cell_type": "code",
   "execution_count": 7,
   "metadata": {},
   "outputs": [
    {
     "name": "stderr",
     "output_type": "stream",
     "text": [
      "WARNING:pgmpy:Replacing existing CPD for Tasa de fertilidad\n",
      "WARNING:pgmpy:Replacing existing CPD for Esperanza de vida al nacer\n",
      "WARNING:pgmpy:Replacing existing CPD for Tasa de desempleo\n",
      "Eliminating: Tasa de fertilidad: 100%|██████████| 9/9 [00:00<00:00, 574.10it/s]"
     ]
    },
    {
     "name": "stdout",
     "output_type": "stream",
     "text": [
      "{'Tasa de crecimiento de la población': 1}\n"
     ]
    },
    {
     "name": "stderr",
     "output_type": "stream",
     "text": [
      "\n"
     ]
    }
   ],
   "source": [
    "# Añadir todos los CPD al modelo\n",
    "model.add_cpds(cpd_tasa_fertilidad, cpd_esperanza_vida, cpd_tasa_mortalidad_infantil, \n",
    "               cpd_tasa_crecimiento_poblacion, cpd_tasa_desempleo, cpd_ingreso_nacional_bruto, \n",
    "               cpd_pib_per_capita, cpd_gasto_educacion, cpd_acceso_salud, cpd_tasa_fertilidad_cond, \n",
    "               cpd_esperanza_vida_cond, cpd_nivel_urbanizacion, cpd_tasa_desempleo_cond)\n",
    "\n",
    "# Verificar que el modelo sea válido\n",
    "assert model.check_model()\n",
    "\n",
    "# Realizar inferencias\n",
    "infer = VariableElimination(model)\n",
    "result = infer.map_query(variables=['Tasa de crecimiento de la población'])\n",
    "print(result)"
   ]
  }
 ],
 "metadata": {
  "kernelspec": {
   "display_name": "Python 3",
   "language": "python",
   "name": "python3"
  },
  "language_info": {
   "codemirror_mode": {
    "name": "ipython",
    "version": 3
   },
   "file_extension": ".py",
   "mimetype": "text/x-python",
   "name": "python",
   "nbconvert_exporter": "python",
   "pygments_lexer": "ipython3",
   "version": "3.9.5"
  }
 },
 "nbformat": 4,
 "nbformat_minor": 2
}
